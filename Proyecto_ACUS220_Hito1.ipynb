{
 "cells": [
  {
   "cell_type": "markdown",
   "id": "047d525e",
   "metadata": {},
   "source": [
    "<p align=\"center\">\n",
    "    <img src=\"../logo_uach.png\" alt=\"UACh\" width=\"200\"/>\n",
    "    </p>\n",
    "\n",
    "# Proyecto de ACUS 220 Acústica Computacional con Python  \n",
    "\n",
    "## Medidor de volúmen unit o Vúmetro (VU Meter) \n",
    "### Primer Hito de Entrega  \n",
    "\n",
    "**Integrantes:** Benjamín Cea, José Vera, Mauricio Martínez\n"
   ]
  },
  {
   "cell_type": "markdown",
   "id": "00ce9095",
   "metadata": {},
   "source": [
    "## Objetivos del Proyecto  \n",
    "- VU meter se realizará para el uso de usuarios comunes hasta profesionales del sonido.\n",
    "  \n",
    "**Objetivo General:**  \n",
    "- Analizar VU Meter capaz de entregar el impacto en la pércepcion sonora en diferentes espacios sonoros.  \n",
    "\n",
    "**Objetivos Específicos:**  \n",
    "- OE1: Explicar qué es un VU Meter.  \n",
    "- OE2: Crear VU Meter basándose en normas de percepción sonora, y modelos virtuales/físicos de vúmetros.  \n",
    "- OE3: Explorar y visualizar los diferentes formatos de medición mediante el medidor VU.  \n",
    "\n"
   ]
  },
  {
   "cell_type": "markdown",
   "id": "c2ba83cb",
   "metadata": {},
   "source": [
    "## Estado del Arte  \n",
    "\n",
    "### Medidores VU tradicionales: \n",
    "- Origen en los años 1930s para estaciones de radio y estudios de grabación.\n",
    "- Diseñado para medir niveles de volumen promedio.\n",
    "-  No hay relación exacta con la percepción sonora humana excluyendo valor Root Mean Square (RMS). \n",
    "\n",
    "### Tecnologías existentes (softwares): \n",
    "- Audacity, Adobe Audition, son medidores VU básicos pero sin análisis perceptual.\n",
    "- REW (Room EQ Wizard) permite analizar espacios acústicamente para obtener la mejor calidad de sonido.\n",
    "- Librerías en Python, como 'librosa' o 'matplotlib' ayudan al análisis de datos.\n",
    "- Chinn, H. A. (1940). \"The VU Meter\" (Proceedings of the IRE). \n"
   ]
  },
  {
   "cell_type": "markdown",
   "id": "7cc17aa5",
   "metadata": {
    "jp-MarkdownHeadingCollapsed": true
   },
   "source": [
    "## Materiales y Métodos  \n",
    "\n",
    "### Materiales  \n",
    "- Registrador de niveles (dBa).\n",
    "- Señales sobre pasos de decibelios (dB) normados por zona y recinto.\n",
    "- Normativas ministeriales\n",
    "- Python\n",
    "- Librerias: sounddevice numpy matplotlib\n",
    "- Placa electrónica de audio\n",
    "\n",
    "### Metodología  \n",
    "- Indagar sobre el concepto de VU Meter y descomponer sus funciones específicas.\n",
    "- Investigar y relacionar normativas sobre el impacto de percepción sonora en diversos espacios con el medidor VU.\n",
    "- Realizar hipótesis sobre los resultados que se esperan lograr.\n",
    "- Realizar un listado y ordenar los materiales que se necesitarán para la fabricación de este.\n",
    "- Creación de VU Meter a partir de lo investigado.\n",
    "- Implementar al medidor un registro historico de mediciones según fecha, hora y rango.\n",
    "- Implementar asignación eficaz de las normativas para el recinto.\n",
    "- Realizar y visualizar pruebas/errores del proyecto.\n",
    "- Analizar resultados obtenidos con los esperados.\n",
    "\n",
    "**Ejemplo plan de trabajo:**  \n",
    "\n",
    "| Actividad                        | Responsable(s)   | Fecha estimada |\n",
    "|----------------------------------|----------------- |----------------|\n",
    "| Revisión bibliográfica           | Grupo completo   | 01/10/2025     |\n",
    "| Recolección de datos principales | José Vera        | 00/10/2025     |\n",
    "| Procesamiento de datos en Python | Benjamín Cea     | 00/10/2025     |\n",
    "| Entrenamiento del modelo         | Mauricio Martinez| 00/11/2025     |\n",
    "| Analisis de datos                | Grupo Completo   | 00/11/2025     |\n",
    "| Redacción de informe parcial     | Grupo completo   | 29/11/2025     |  \n"
   ]
  },
  {
   "cell_type": "markdown",
   "id": "b1eb4b2e",
   "metadata": {},
   "source": [
    "## Referencias Bibliográficas  \n",
    "\n",
    "Ejemplos en formato APA:  \n",
    "\n",
    "- Ing. Andrés Alcaíno Flores. *Recomendaciones para el control de ruido en locales de ocio nocturno*.   \n",
    "- https://ruido.mma.gob.cl/preguntas-frecuentes/\n",
    "- https://mastering-com.translate.goog/vu-meter/?_x_tr_sl=en&_x_tr_tl=es&_x_tr_hl=es&_x_tr_pto=tc\n",
    "- \n"
   ]
  },
  {
   "cell_type": "code",
   "execution_count": null,
   "id": "6976b888-1626-4d5a-bda1-70e82a47c291",
   "metadata": {},
   "outputs": [],
   "source": []
  }
 ],
 "metadata": {
  "kernelspec": {
   "display_name": "Python 3 (ipykernel)",
   "language": "python",
   "name": "python3"
  },
  "language_info": {
   "codemirror_mode": {
    "name": "ipython",
    "version": 3
   },
   "file_extension": ".py",
   "mimetype": "text/x-python",
   "name": "python",
   "nbconvert_exporter": "python",
   "pygments_lexer": "ipython3",
   "version": "3.10.15"
  }
 },
 "nbformat": 4,
 "nbformat_minor": 5
}
